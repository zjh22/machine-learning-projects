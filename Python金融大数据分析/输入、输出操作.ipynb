{
 "cells": [
  {
   "cell_type": "code",
   "execution_count": 1,
   "id": "19061b0e",
   "metadata": {},
   "outputs": [],
   "source": [
    "import numpy as np\n",
    "from random import gauss\n",
    "\n",
    "path='C:\\\\Users\\\\15295\\\\Desktop\\\\量化金融\\\\financepy-master\\\\part1\\\\ch07'\n",
    "\n",
    "a=[gauss(1.5,2) for i in range(1000000)]"
   ]
  },
  {
   "cell_type": "code",
   "execution_count": 2,
   "id": "8759e1f4",
   "metadata": {},
   "outputs": [
    {
     "name": "stdout",
     "output_type": "stream",
     "text": [
      "Wall time: 33 ms\n"
     ]
    }
   ],
   "source": [
    "import pickle\n",
    "pkl_file=open(path+'data.pkl','wb')\n",
    "\n",
    "%time pickle.dump(a,pkl_file)"
   ]
  },
  {
   "cell_type": "code",
   "execution_count": 3,
   "id": "4ddc5a38",
   "metadata": {},
   "outputs": [
    {
     "ename": "OperationalError",
     "evalue": "table numbs already exists",
     "output_type": "error",
     "traceback": [
      "\u001b[1;31m---------------------------------------------------------------------------\u001b[0m",
      "\u001b[1;31mOperationalError\u001b[0m                          Traceback (most recent call last)",
      "\u001b[1;32m~\\AppData\\Local\\Temp\\ipykernel_2788\\3854920527.py\u001b[0m in \u001b[0;36m<module>\u001b[1;34m\u001b[0m\n\u001b[0;32m      4\u001b[0m \u001b[0mcon\u001b[0m\u001b[1;33m=\u001b[0m\u001b[0msq3\u001b[0m\u001b[1;33m.\u001b[0m\u001b[0mconnect\u001b[0m\u001b[1;33m(\u001b[0m\u001b[0mpath\u001b[0m\u001b[1;33m+\u001b[0m\u001b[1;34m'numbs.db'\u001b[0m\u001b[1;33m)\u001b[0m\u001b[1;33m\u001b[0m\u001b[1;33m\u001b[0m\u001b[0m\n\u001b[0;32m      5\u001b[0m \u001b[1;33m\u001b[0m\u001b[0m\n\u001b[1;32m----> 6\u001b[1;33m \u001b[0mcon\u001b[0m\u001b[1;33m.\u001b[0m\u001b[0mexecute\u001b[0m\u001b[1;33m(\u001b[0m\u001b[0mquery\u001b[0m\u001b[1;33m)\u001b[0m\u001b[1;33m\u001b[0m\u001b[1;33m\u001b[0m\u001b[0m\n\u001b[0m\u001b[0;32m      7\u001b[0m \u001b[1;33m\u001b[0m\u001b[0m\n\u001b[0;32m      8\u001b[0m \u001b[1;33m\u001b[0m\u001b[0m\n",
      "\u001b[1;31mOperationalError\u001b[0m: table numbs already exists"
     ]
    }
   ],
   "source": [
    "import sqlite3 as sq3\n",
    "\n",
    "query='CREATE TABLE numbs (Date date, No1 real, No2 real)'\n",
    "con=sq3.connect(path+'numbs.db')\n",
    "\n",
    "con.execute(query)\n",
    "\n",
    "\n"
   ]
  },
  {
   "cell_type": "code",
   "execution_count": null,
   "id": "93718fff",
   "metadata": {},
   "outputs": [],
   "source": [
    "con.commit()"
   ]
  },
  {
   "cell_type": "code",
   "execution_count": null,
   "id": "40934e4c",
   "metadata": {},
   "outputs": [],
   "source": [
    "import datetime as dt\n",
    "con.execute('INSERT INTO numbs VALUES(?,?,?)',\n",
    "           (dt.datetime.now(),0.12,7.3))"
   ]
  },
  {
   "cell_type": "code",
   "execution_count": null,
   "id": "401c8e99",
   "metadata": {},
   "outputs": [],
   "source": [
    "data=np.random.standard_normal((10000,2)).round(5)\n",
    "for row in data:\n",
    "    con.execute('INSERT INTO numbs VALUES(?,?,?)',\n",
    "               (dt.datetime.now(),row[0],row[1]))\n",
    "con.commit()"
   ]
  },
  {
   "cell_type": "code",
   "execution_count": null,
   "id": "7854a19a",
   "metadata": {},
   "outputs": [],
   "source": [
    "con.execute('SELECT * FROM numbs').fetchmany(10)"
   ]
  },
  {
   "cell_type": "code",
   "execution_count": null,
   "id": "4f6afa3a",
   "metadata": {},
   "outputs": [],
   "source": [
    "pointer=con.execute('SELECT * FROM numbs')\n",
    "for i in range(3):\n",
    "    print(pointer.fetchone())"
   ]
  },
  {
   "cell_type": "code",
   "execution_count": null,
   "id": "ff591bb7",
   "metadata": {},
   "outputs": [],
   "source": [
    "con.close()"
   ]
  },
  {
   "cell_type": "code",
   "execution_count": 1,
   "id": "37bcf2e6",
   "metadata": {},
   "outputs": [],
   "source": [
    "import tables as tb\n",
    "\n",
    "filename='C:\\\\Users\\\\15295\\\\Desktop\\\\量化金融\\\\financepy-master\\\\part1\\\\ch07'+'tab.h5'\n",
    "\n",
    "h5=tb.open_file(filename,'w')\n",
    "\n",
    "rows=20000000\n",
    "\n",
    "row_des={\n",
    "    'Date':tb.StringCol(26,pos=1),\n",
    "    'No1':tb.IntCol(pos=2),\n",
    "    'No2':tb.IntCol(pos=3),\n",
    "    'No3':tb.Float64Col(pos=4),\n",
    "    'No4':tb.Float64Col(pos=5)\n",
    "}\n",
    "\n",
    "filters=tb.Filters(complevel=0)\n",
    "tab=h5.create_table('/','ints_floats',row_des,title='Integers and Floats',\n",
    "                  expectedrows=rows,filters=filters)\n"
   ]
  },
  {
   "cell_type": "code",
   "execution_count": 11,
   "id": "478aa409",
   "metadata": {},
   "outputs": [],
   "source": []
  },
  {
   "cell_type": "code",
   "execution_count": 2,
   "id": "e508cf11",
   "metadata": {},
   "outputs": [
    {
     "data": {
      "text/plain": [
       "/ints_floats (Table(0,)) 'Integers and Floats'\n",
       "  description := {\n",
       "  \"Date\": StringCol(itemsize=26, shape=(), dflt=b'', pos=0),\n",
       "  \"No1\": Int32Col(shape=(), dflt=0, pos=1),\n",
       "  \"No2\": Int32Col(shape=(), dflt=0, pos=2),\n",
       "  \"No3\": Float64Col(shape=(), dflt=0.0, pos=3),\n",
       "  \"No4\": Float64Col(shape=(), dflt=0.0, pos=4)}\n",
       "  byteorder := 'little'\n",
       "  chunkshape := (5242,)"
      ]
     },
     "execution_count": 2,
     "metadata": {},
     "output_type": "execute_result"
    }
   ],
   "source": [
    "tab"
   ]
  },
  {
   "cell_type": "code",
   "execution_count": 3,
   "id": "c2733168",
   "metadata": {},
   "outputs": [],
   "source": [
    "import numpy as np\n",
    "import datetime as dt\n",
    "ran_int=np.random.randint(0,10000,size=(rows,2))\n",
    "ran_flo=np.random.standard_normal((rows,2)).round(5)"
   ]
  },
  {
   "cell_type": "code",
   "execution_count": 4,
   "id": "acef6b4b",
   "metadata": {
    "scrolled": true
   },
   "outputs": [],
   "source": [
    "pointer=tab.row"
   ]
  },
  {
   "cell_type": "code",
   "execution_count": 5,
   "id": "916d92a6",
   "metadata": {},
   "outputs": [
    {
     "name": "stdout",
     "output_type": "stream",
     "text": [
      "Wall time: 0 ns\n"
     ]
    }
   ],
   "source": [
    "%time \n",
    "for i in range(rows):\n",
    "    pointer['Date']=dt.datetime.now()\n",
    "    pointer['No1']=ran_int[i,0]\n",
    "    pointer['No2']=ran_int[i,1]\n",
    "    pointer['No3']=ran_flo[i,0]\n",
    "    pointer['No4']=ran_flo[i,1]\n",
    "tab.flush()"
   ]
  },
  {
   "cell_type": "code",
   "execution_count": 7,
   "id": "6a55121d",
   "metadata": {},
   "outputs": [],
   "source": [
    "dty=np.dtype([('Date','S26'),('No1','<i4'),('No2','<i4'),('No3','<f8'),('No4','<f8')])\n",
    "sarray=np.zeros(len(ran_int),dtype=dty)\n"
   ]
  },
  {
   "cell_type": "code",
   "execution_count": null,
   "id": "61360f21",
   "metadata": {},
   "outputs": [],
   "source": []
  }
 ],
 "metadata": {
  "kernelspec": {
   "display_name": "Python 3 (ipykernel)",
   "language": "python",
   "name": "python3"
  },
  "language_info": {
   "codemirror_mode": {
    "name": "ipython",
    "version": 3
   },
   "file_extension": ".py",
   "mimetype": "text/x-python",
   "name": "python",
   "nbconvert_exporter": "python",
   "pygments_lexer": "ipython3",
   "version": "3.9.13"
  }
 },
 "nbformat": 4,
 "nbformat_minor": 5
}
