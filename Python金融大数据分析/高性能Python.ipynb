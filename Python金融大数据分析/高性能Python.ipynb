{
 "cells": [
  {
   "cell_type": "markdown",
   "id": "d9f929aa",
   "metadata": {},
   "source": [
    "# 并行计算"
   ]
  },
  {
   "cell_type": "markdown",
   "id": "3430542b",
   "metadata": {},
   "source": [
    "**蒙特卡洛算法**\n",
    "\n",
    "Black-Stcholes-Merton SDE\n",
    "$$\n",
    "dS_{t}=rS_{t}dt+\\sigma S_{t}dZ_{t}\n",
    "$$\n",
    "\n",
    "欧式看涨期权的蒙特卡洛估算函数\n",
    "$$\n",
    "C_{0}=e^{-rT}\\frac{1}{T}\\sum max(S_{T}(i)-K,0)\n",
    "$$\n",
    "\n"
   ]
  },
  {
   "cell_type": "code",
   "execution_count": 1,
   "id": "f355ae9f",
   "metadata": {},
   "outputs": [],
   "source": [
    "def bsm_mcs_valuation(strike):\n",
    "    import numpy as np\n",
    "    S0=100.;T=1.0;r=0.05;vola=0.2\n",
    "    M=50;I=20000\n",
    "    dt=T/M\n",
    "    rand=np.random.standard_normal((M+1,I))\n",
    "    S=np.zeros((M+1,I));S[0]=S0\n",
    "    for t in range(1,M+1):\n",
    "        S[t]=S[t-1]*np.exp((r-0.5*vola**2)*dt+vola*np.sqrt(dt)*rand[t])\n",
    "    value=(np.exp(-r*T)*np.sum(np.maximum(S[-1]-strike,0))/I)\n",
    "    \n",
    "    return value"
   ]
  },
  {
   "cell_type": "code",
   "execution_count": 5,
   "id": "661f4756",
   "metadata": {},
   "outputs": [],
   "source": [
    "#顺序化计算\n",
    "\n",
    "def seq_value(n):\n",
    "    import numpy as np\n",
    "    strikes=np.linspace(80,120,n)\n",
    "    option_values=[]\n",
    "    for strike in strikes:\n",
    "        option_values.append(bsm_mcs_valuation(strike))\n",
    "    return strikes,option_values\n",
    "n=100\n",
    "strikes,option_values=seq_value(100)"
   ]
  },
  {
   "cell_type": "code",
   "execution_count": 7,
   "id": "4946ca49",
   "metadata": {},
   "outputs": [
    {
     "data": {
      "text/plain": [
       "Text(0, 0.5, 'European call option values')"
      ]
     },
     "execution_count": 7,
     "metadata": {},
     "output_type": "execute_result"
    },
    {
     "data": {
      "image/png": "[encoded data removed]",
      "text/plain": [
       "<Figure size 800x600 with 1 Axes>"
      ]
     },
     "metadata": {},
     "output_type": "display_data"
    }
   ],
   "source": [
    "import matplotlib.pyplot as plt\n",
    "plt.figure(figsize=(8,6))\n",
    "plt.plot(strikes,option_values,'b')\n",
    "plt.plot(strikes,option_values,'r.')\n",
    "plt.grid(True)\n",
    "plt.xlabel('strikes')\n",
    "plt.ylabel('European call option values')"
   ]
  },
  {
   "cell_type": "markdown",
   "id": "254dd7e3",
   "metadata": {},
   "source": [
    "**多处理**"
   ]
  },
  {
   "cell_type": "code",
   "execution_count": 21,
   "id": "74cf8a14",
   "metadata": {},
   "outputs": [
    {
     "data": {
      "text/plain": [
       "(6, 2)"
      ]
     },
     "execution_count": 21,
     "metadata": {},
     "output_type": "execute_result"
    }
   ],
   "source": [
    "import multiprocessing as mp\n",
    "import math\n",
    "import numpy as np\n",
    "def simulate_geometric_brownian_motion(p):\n",
    "    M,I=p\n",
    "    S0=100;r=0.05;sigma=0.2;T=1.0\n",
    "    dt=T/M\n",
    "    paths=np.zeros((M+1,I))\n",
    "    paths[0]=S0\n",
    "    for t in range(1,M+1):\n",
    "        paths[t]=paths[t-1]*np.exp((r-0.5*sigma**2)*dt+sigma*math.sqrt(dt)*np.random.standard_normal(I))\n",
    "    return paths\n",
    "\n",
    "paths=simulate_geometric_brownian_motion((5,2))\n",
    "paths.shape"
   ]
  },
  {
   "cell_type": "code",
   "execution_count": null,
   "id": "6470945e",
   "metadata": {},
   "outputs": [],
   "source": [
    "I=10000#paths的数量\n",
    "M=100#时间步数\n",
    "t=100#模拟次数\n",
    "\n",
    "from time import time\n",
    "times=[]\n",
    "for w in range(1,17):\n",
    "    t0=time()\n",
    "    pool=mp.Pool(processes=w)\n",
    "    result=pool.map(simulate_geometric_brownian_motion,t*[(M,I),])\n",
    "    times.append(time()-t0)\n",
    "    \n",
    "plt.plot(range(l,17), times) \n",
    "plt.plot(range(l,17), times, 'ro') \n",
    "plt.grid(True) \n",
    "plt.xlabel('number of processes') \n",
    "plt.ylabel('time in seconds') \n",
    "plt. title('%d onte Carlo simulations' % t)"
   ]
  },
  {
   "cell_type": "markdown",
   "id": "dde2bba2",
   "metadata": {},
   "source": [
    "# 二项式期权定价方法\n",
    "\n",
    "\n",
    "从当天到期权到期日的时间间隔被分为通常等距的子间隔$\\delta t$。如果时间s的指数水平为$S_{t}$,则$t=s+\\delta t$时的指数水平为$S_{t}=S_{t}*m$,其中m是从{u,d}中随机选取$（0<d<e^{r\\delta t},u=\\frac{1}{d}）$.r是一个常数-无风险利率。风险中立的上涨概率为$q=\\frac{e^{r\\delta t-d}}{u-d}$"
   ]
  },
  {
   "cell_type": "code",
   "execution_count": 2,
   "id": "95ddee13",
   "metadata": {},
   "outputs": [],
   "source": [
    "from math import exp,sqrt\n",
    "import numpy as np\n",
    "import pandas as pd\n",
    "\n",
    "\n",
    "S0=100\n",
    "T=1\n",
    "r=0.05\n",
    "vola=0.2\n",
    "\n",
    "M=1000\n",
    "dt=T/M\n",
    "df=exp(-r*dt)\n",
    "\n",
    "u=exp(vola*sqrt(dt))#上升时期\n",
    "d=1/u #下降时期\n",
    "q=(exp(r*dt)-d)/(u-d)#风险上升概率\n",
    "\n",
    "\n"
   ]
  },
  {
   "cell_type": "code",
   "execution_count": 3,
   "id": "887e8d20",
   "metadata": {},
   "outputs": [],
   "source": [
    "def binomial_py(strike):\n",
    "    S=np.zeros((M+1,M+1),dtype=np.float64)\n",
    "    S[0,0]=S0\n",
    "    z1=0\n",
    "    for j in xrange(1,M+1,1):\n",
    "        z1=z1+1\n",
    "        for i in xrange(z1+1):\n",
    "            S[i,j]=S[0,0]*(u**j)*(d**(i*2))\n",
    "    \n",
    "    iv=np.zeros((M+1,M+1),dtype=np.float64)\n",
    "    z2=0\n",
    "    for j in xrange(0,M+1,1):\n",
    "        for i in xrange(z2+1):\n",
    "            iv=[i,j]=max(S[i,j]-strike,0)\n",
    "        z2+=1\n",
    "    \n",
    "    pv=np.zeros((M+1,M+1),dtype=np.float64)\n",
    "    pv[:,M]=iv[:,M]\n",
    "    z3=M+1\n",
    "    for j in xrange(M-1,-1,-1):\n",
    "        ze3-=1\n",
    "        for i in xrange(z3):\n",
    "            pv[i,j]=(q*pv[i,j+1]+(1-q)*pv[i+1,j+1]*df)\n",
    "    return pv[0,0]\n",
    "\n"
   ]
  },
  {
   "cell_type": "code",
   "execution_count": 5,
   "id": "9617ad20",
   "metadata": {},
   "outputs": [],
   "source": [
    "def binomial_np(strike):\n",
    "    mu=np.arange(M+1)\n",
    "    mu=np.resize(mu,(M+1,M+1))\n",
    "    md=np.transpose(mu)\n",
    "    mu=u**(mu-md)\n",
    "    md=d**md\n",
    "    S=S0*mu*md\n",
    "    \n",
    "    pv=np.maximum(S-strike,0)\n",
    "    z=0\n",
    "    for t in range(M-1,-1,-1):\n",
    "        pv[0:M-z,t]=(q*pv[0:M-z,t+1]+(1-q)*pv[1:M,pv[1:M-z+1,t+1]])*df\n",
    "        z+=1\n",
    "    return pv[0,0]"
   ]
  },
  {
   "cell_type": "code",
   "execution_count": 6,
   "id": "31ca1efe",
   "metadata": {},
   "outputs": [
    {
     "data": {
      "text/plain": [
       "array([0, 1, 2, 3, 4])"
      ]
     },
     "execution_count": 6,
     "metadata": {},
     "output_type": "execute_result"
    }
   ],
   "source": [
    "M=4\n",
    "mu=np.arange(M+1)\n",
    "mu"
   ]
  },
  {
   "cell_type": "code",
   "execution_count": 7,
   "id": "f400edd9",
   "metadata": {},
   "outputs": [
    {
     "data": {
      "text/plain": [
       "array([[0, 1, 2, 3, 4],\n",
       "       [0, 1, 2, 3, 4],\n",
       "       [0, 1, 2, 3, 4],\n",
       "       [0, 1, 2, 3, 4],\n",
       "       [0, 1, 2, 3, 4]])"
      ]
     },
     "execution_count": 7,
     "metadata": {},
     "output_type": "execute_result"
    }
   ],
   "source": [
    "mu=np.resize(mu,(M+1,M+1))\n",
    "mu"
   ]
  },
  {
   "cell_type": "code",
   "execution_count": 8,
   "id": "b16da3a6",
   "metadata": {},
   "outputs": [
    {
     "data": {
      "text/plain": [
       "array([[0, 0, 0, 0, 0],\n",
       "       [1, 1, 1, 1, 1],\n",
       "       [2, 2, 2, 2, 2],\n",
       "       [3, 3, 3, 3, 3],\n",
       "       [4, 4, 4, 4, 4]])"
      ]
     },
     "execution_count": 8,
     "metadata": {},
     "output_type": "execute_result"
    }
   ],
   "source": [
    "md=np.transpose(mu)\n",
    "md"
   ]
  },
  {
   "cell_type": "code",
   "execution_count": 9,
   "id": "5d518717",
   "metadata": {},
   "outputs": [],
   "source": [
    "import numba as nb\n",
    "binomial_nb=nb.jit(binomial_py)"
   ]
  },
  {
   "cell_type": "code",
   "execution_count": 14,
   "id": "8ca6a8e0",
   "metadata": {},
   "outputs": [
    {
     "ename": "ModuleNotFoundError",
     "evalue": "No module named 'numbapro'",
     "output_type": "error",
     "traceback": [
      "\u001b[1;31m---------------------------------------------------------------------------\u001b[0m",
      "\u001b[1;31mModuleNotFoundError\u001b[0m                       Traceback (most recent call last)",
      "\u001b[1;32m~\\AppData\\Local\\Temp\\ipykernel_26056\\3477306195.py\u001b[0m in \u001b[0;36m<module>\u001b[1;34m\u001b[0m\n\u001b[1;32m----> 1\u001b[1;33m \u001b[1;32mfrom\u001b[0m \u001b[0mnumbapro\u001b[0m\u001b[1;33m.\u001b[0m\u001b[0mcudalib\u001b[0m \u001b[1;32mimport\u001b[0m \u001b[0mcurand\u001b[0m\u001b[1;33m\u001b[0m\u001b[1;33m\u001b[0m\u001b[0m\n\u001b[0m\u001b[0;32m      2\u001b[0m \u001b[1;33m\u001b[0m\u001b[0m\n\u001b[0;32m      3\u001b[0m \u001b[1;32mdef\u001b[0m \u001b[0mget_randoms\u001b[0m\u001b[1;33m(\u001b[0m\u001b[0mx\u001b[0m\u001b[1;33m,\u001b[0m\u001b[0my\u001b[0m\u001b[1;33m)\u001b[0m\u001b[1;33m:\u001b[0m\u001b[1;33m\u001b[0m\u001b[1;33m\u001b[0m\u001b[0m\n\u001b[0;32m      4\u001b[0m     \u001b[0mrand\u001b[0m\u001b[1;33m=\u001b[0m\u001b[0mnp\u001b[0m\u001b[1;33m.\u001b[0m\u001b[0mrandom\u001b[0m\u001b[1;33m.\u001b[0m\u001b[0mstandard_normal\u001b[0m\u001b[1;33m(\u001b[0m\u001b[1;33m(\u001b[0m\u001b[0mx\u001b[0m\u001b[1;33m,\u001b[0m\u001b[0my\u001b[0m\u001b[1;33m)\u001b[0m\u001b[1;33m)\u001b[0m\u001b[1;33m\u001b[0m\u001b[1;33m\u001b[0m\u001b[0m\n\u001b[0;32m      5\u001b[0m     \u001b[1;32mreturn\u001b[0m \u001b[0mrand\u001b[0m\u001b[1;33m\u001b[0m\u001b[1;33m\u001b[0m\u001b[0m\n",
      "\u001b[1;31mModuleNotFoundError\u001b[0m: No module named 'numbapro'"
     ]
    }
   ],
   "source": [
    "from numbapro.cudalib import curand\n",
    "\n",
    "def get_randoms(x,y):\n",
    "    rand=np.random.standard_normal((x,y))\n",
    "    return rand"
   ]
  },
  {
   "cell_type": "code",
   "execution_count": null,
   "id": "bd9fde1a",
   "metadata": {},
   "outputs": [],
   "source": []
  },
  {
   "cell_type": "code",
   "execution_count": null,
   "id": "a280d5c1",
   "metadata": {},
   "outputs": [],
   "source": []
  },
  {
   "cell_type": "code",
   "execution_count": null,
   "id": "e2af1b57",
   "metadata": {},
   "outputs": [],
   "source": []
  },
  {
   "cell_type": "code",
   "execution_count": null,
   "id": "0ad42de8",
   "metadata": {},
   "outputs": [],
   "source": []
  }
 ],
 "metadata": {
  "kernelspec": {
   "display_name": "Python 3 (ipykernel)",
   "language": "python",
   "name": "python3"
  },
  "language_info": {
   "codemirror_mode": {
    "name": "ipython",
    "version": 3
   },
   "file_extension": ".py",
   "mimetype": "text/x-python",
   "name": "python",
   "nbconvert_exporter": "python",
   "pygments_lexer": "ipython3",
   "version": "3.9.13"
  }
 },
 "nbformat": 4,
 "nbformat_minor": 5
}
