{
 "cells": [
  {
   "cell_type": "markdown",
   "id": "e54c2290",
   "metadata": {},
   "source": [
    "贝叶斯优化法的工作原理是构建一个函数的后验分布（高斯过程），它能最好地描述你想要优化的函数。如下图所示，随着观测数据数量的增加，后验分布会不断改善，算法也会更加确定参数空间中哪些区域值得探索，哪些不值得探索。\n",
    "\n",
    "\n",
    "\n",
    "在反复迭代的过程中，算法会根据对目标函数的了解，平衡探索和利用的需要。每一步都会对已知样本（之前探索过的点）进行高斯过程拟合，并结合后验分布和探索策略（如 UCB（置信度上限）或 EI（预期改进））来确定下一个要探索的点（见下图）。"
   ]
  },
  {
   "cell_type": "markdown",
   "id": "811e5149",
   "metadata": {},
   "source": [
    "如何在 Python 中实现这些解决方案？\n",
    "在 Python 中实现超参数调整有不同的方法，这取决于你选择的库和方法。scikit-learn 是一个流行的 Python 机器学习库，它提供了多个用于超参数调整的工具和类。其中最常见的有\n",
    "\n",
    "GridSearchCV：该类在超参数网格上执行穷举搜索，使用交叉验证评估每个组合。\n",
    "\n",
    "RandomizedSearchCV：该类对超参数分布进行随机搜索，抽取固定数量的候选参数，并使用交叉验证对其进行评估。\n",
    "\n",
    "HalvingGridSearchCV和HalvingRandomSearchCV：这两个类与 GridSearchCV 和 RandomizedSearchCV 类似，但它们使用了连续减半技术，在每次迭代时根据候选数据的性能减少候选数据的数量。这可以加快搜索过程并降低计算成本。\n",
    "\n",
    "另一个流行的 Python 机器学习库是 Neptune.ai，它为实验跟踪和超参数调整提供了一个平台。您可以通过安装 neptune-client 软件包并在 Neptune 网站上创建一个项目来使用它。\n",
    "\n",
    "**Optuna \"库在 Kaggle 竞赛的参赛者中拥有众多粉丝，它在自己的网站上做了如下介绍： Optuna 采用最先进的算法对超参数进行采样，并有效剪除不具潜力的试验，从而实现高效的超参数优化。此外，该链接还介绍了七种采样算法。**\n",
    "\n",
    "**bayes_opt： 这是一个使用高斯过程实现贝叶斯优化算法的库。您可以通过安装 bayes_opt 软件包并创建一个带有目标函数和参数边界的 BayesianOptimization 对象来使用它。然后，你就可以调用 maximize 方法来找到最佳参数和得分。**\n",
    "\n",
    "hyperopt： 这是一个实现各种超参数优化方法的库，例如树状结构帕尔森估计器（TPE）、自适应 TPE 和随机搜索。"
   ]
  },
  {
   "cell_type": "code",
   "execution_count": null,
   "id": "61d5a191",
   "metadata": {},
   "outputs": [],
   "source": [
    "import warnings \n",
    "warnings.filterwarnings('ignore')\n",
    "\n",
    "import random\n",
    "import numpy as np\n",
    "import pandas as pd\n",
    "import seaborn as sns\n",
    "import matplotlib.pyplot as plt\n",
    "from tqdm import tqdm\n",
    "from scipy import stats\n",
    "import plotly.figure_factory as ff\n",
    "import plotly.express as px\n",
    "pd.set_option('display.max_columns',100)"
   ]
  },
  {
   "cell_type": "code",
   "execution_count": null,
   "id": "44067bac",
   "metadata": {},
   "outputs": [],
   "source": [
    "df_train=pd.read_csv(\"C:/Users/15295/Desktop/Kaggle/用户交易行为预测/train.csv\")\n",
    "df_test=pd.read_csv(\"C:/Users/15295/Desktop/Kaggle/用户交易行为预测/test.csv\")\n",
    "df_sample=pd.read_csv(\"C:/Users/15295/Desktop/Kaggle/用户交易行为预测/sample_submission.csv\")"
   ]
  },
  {
   "cell_type": "code",
   "execution_count": null,
   "id": "d96765e6",
   "metadata": {},
   "outputs": [],
   "source": [
    "display(df_train.info())\n",
    "df_train.describe()"
   ]
  },
  {
   "cell_type": "code",
   "execution_count": null,
   "id": "26a542c8",
   "metadata": {},
   "outputs": [],
   "source": [
    "df_train.isnull().sum(),df_test.isnull().sum()"
   ]
  },
  {
   "cell_type": "code",
   "execution_count": null,
   "id": "f00e9aae",
   "metadata": {},
   "outputs": [],
   "source": [
    "train=df_train.copy()\n",
    "test=df_test.copy()\n",
    "\n",
    "target=train.pop('target')\n",
    "target.value_counts().plot(kind='barh',figsize=(12,1),title='Target Count',color=['darkcyan','red'])\n",
    "plt.gca().set_facecolor('lightgray')\n",
    "\n"
   ]
  },
  {
   "cell_type": "code",
   "execution_count": null,
   "id": "9516be1d",
   "metadata": {},
   "outputs": [],
   "source": [
    "target.value_counts().plot(kind='pie',figsize=(4,4),title='Proportion of Target',autopct='%1.0f%%')"
   ]
  },
  {
   "cell_type": "code",
   "execution_count": null,
   "id": "9b3f3d88",
   "metadata": {},
   "outputs": [],
   "source": [
    "features=train.columns.tolist()"
   ]
  },
  {
   "cell_type": "code",
   "execution_count": null,
   "id": "bd76ca81",
   "metadata": {},
   "outputs": [],
   "source": [
    "#随机选取一些特诊进行可视化分析\n",
    "\n",
    "features_select=np.random.choice(features,size=28,replace=False).tolist()"
   ]
  },
  {
   "cell_type": "code",
   "execution_count": null,
   "id": "5ffb8d49",
   "metadata": {},
   "outputs": [],
   "source": [
    "corr_matrix=df_train[features_select+['target']].corr().round(2)#加上target这个标签\n",
    "\n",
    "fig=plt.figure(figsize=(12,12))\n",
    "cmap=sns.color_palette('Blues')\n",
    "sns.heatmap(corr_matrix,center=0,annot=False,cmap=cmap)\n",
    "plt.show()"
   ]
  },
  {
   "cell_type": "code",
   "execution_count": null,
   "id": "79485f7c",
   "metadata": {},
   "outputs": [],
   "source": [
    "# sns.set()\n",
    "# plt.style.use('seaborn-whitegrid')\n",
    "# _,axs=plt.subplots(7,4,figsize=(15,30),facecolor='lightyellow')\n",
    "\n",
    "# for f,ax in zip(features_select,axs.ravel()):\n",
    "#     ax.set_facecolor('lightcyan')\n",
    "#     ax.hist(train[f],bins=100,color='red')\n",
    "#     ax.set_title(f'Feature:{f}',fontsize=10)\n",
    "    \n",
    "# plt.suptitle('Histograms of the Randomly selected features',y=0.91,fontsize=14)\n",
    "# plt.show()"
   ]
  },
  {
   "cell_type": "code",
   "execution_count": null,
   "id": "6f909776",
   "metadata": {},
   "outputs": [],
   "source": [
    "from sklearn.metrics import roc_auc_score,roc_curve,auc\n",
    "\n",
    "def roc_auc(true_list,pred_list,a,b):\n",
    "    fpr,tpr,_=roc_curve(true_list,pred_list)#在刻画roc曲线的时候，我们应该使用标签列和预测的概率或者分数\n",
    "    roc_auc=auc(fpr,tpr)\n",
    "    \n",
    "    print(f'\\n>>>>> ROC_AUC: %0.6f <<<<<\\n %roc_auc')\n",
    "    \n",
    "    sns.set()\n",
    "    plt.style.use('seaborn-whitegrid')\n",
    "    plt.figure(figsize=(a,b),facecolor='lightyellow')\n",
    "    plt.gca().set_facecolor('lightblue')\n",
    "    plt.plot(fpr,tpr,color='darkorange',lw=2,label='ROC curve')\n",
    "    plt.plot([0,1],[0,1],color='navy',lw=2,ls='--')\n",
    "    plt.xlim([-0.01,1.0])\n",
    "    plt.ylim([0.0,1.05])\n",
    "    plt.xlabel('False Positive Rate')\n",
    "    plt.ylabel('True Positive Rate')\n",
    "    plt.title('The area under the ROC curve\\n')\n",
    "    plt.legend(loc='lower right')\n",
    "    plt.show()"
   ]
  },
  {
   "cell_type": "code",
   "execution_count": null,
   "id": "0d616ea4",
   "metadata": {},
   "outputs": [],
   "source": [
    "#朴素贝叶斯\n",
    "\n",
    "from sklearn.naive_bayes import GaussianNB\n",
    "\n",
    "from sklearn.pipeline import make_pipeline\n",
    "from sklearn.model_selection import cross_val_score\n",
    "from sklearn.preprocessing import QuantileTransformer#将特征进行放缩，就是将数据映射到一个分布中去"
   ]
  },
  {
   "cell_type": "code",
   "execution_count": null,
   "id": "33dc5c15",
   "metadata": {},
   "outputs": [],
   "source": [
    "train.set_index('ID_code',inplace=True)"
   ]
  },
  {
   "cell_type": "code",
   "execution_count": null,
   "id": "17f881e3",
   "metadata": {},
   "outputs": [],
   "source": [
    "transoformed=pd.DataFrame(QuantileTransformer(output_distribution='normal').fit_transform(train))\n",
    "\n",
    "pipeline=make_pipeline(QuantileTransformer(output_distribution='normal'),GaussianNB())\n",
    "pipeline.fit(train,target)"
   ]
  },
  {
   "cell_type": "code",
   "execution_count": null,
   "id": "6eafe845",
   "metadata": {},
   "outputs": [],
   "source": [
    "cross_val_score(pipeline,train,target,scoring='roc_auc',cv=10).mean()"
   ]
  },
  {
   "cell_type": "code",
   "execution_count": null,
   "id": "6d7cf7d3",
   "metadata": {},
   "outputs": [],
   "source": [
    "roc_auc(target,pipeline.predict_proba(train)[:,1],6,6)"
   ]
  },
  {
   "cell_type": "code",
   "execution_count": null,
   "id": "4e7a4fec",
   "metadata": {},
   "outputs": [],
   "source": [
    "test.set_index('ID_code',inplace=True)"
   ]
  },
  {
   "cell_type": "code",
   "execution_count": null,
   "id": "4ce6b565",
   "metadata": {},
   "outputs": [],
   "source": [
    "pred_bayes=pipeline.predict_proba(test)[:,1]\n",
    "\n",
    "sns.set()\n",
    "plt.hist(pred_bayes,bins=50)\n",
    "plt.gca().set_facecolor('lightblue')\n",
    "min(pred_bayes),max(pred_bayes)"
   ]
  },
  {
   "cell_type": "code",
   "execution_count": null,
   "id": "a4ed568c",
   "metadata": {},
   "outputs": [],
   "source": [
    "#使用PCA对特征进行降维\n",
    "\n",
    "from sklearn.decomposition import PCA\n",
    "pca=PCA(n_components=2)\n",
    "train_2d=pca.fit_transform(train)\n",
    "test_2d=pca.fit_transform(test)\n",
    "\n",
    "train_2d.shape,test_2d.shape"
   ]
  },
  {
   "cell_type": "code",
   "execution_count": null,
   "id": "ebd5be38",
   "metadata": {},
   "outputs": [],
   "source": [
    "def plot_task(X,y,headline):\n",
    "    colors=['darkcyan','red']\n",
    "    classes=['Class:0','Class:1']\n",
    "    \n",
    "    plt.style.use('seaborn-whitegrid')\n",
    "    plt.figure(figsize=(7,7),facecolor='lightyellow')\n",
    "    \n",
    "    for u,c in zip(np.unique(y),colors):\n",
    "        plt.scatter(X[y==u,0],X[y==u,1],c=c,s=0.3)\n",
    "    \n",
    "    plt.gca()\n",
    "    plt.title(headline,fontsize=14)\n",
    "    plt.legend(classes,loc=2)\n",
    "    plt.show()"
   ]
  },
  {
   "cell_type": "code",
   "execution_count": null,
   "id": "868b7893",
   "metadata": {},
   "outputs": [],
   "source": [
    "plot_task(train_2d,target,'Scatter graph for TrainSet_2D\\n')"
   ]
  },
  {
   "cell_type": "code",
   "execution_count": null,
   "id": "3df70e95",
   "metadata": {},
   "outputs": [],
   "source": [
    "train_2d[target==0,1]"
   ]
  },
  {
   "cell_type": "markdown",
   "id": "687884f7",
   "metadata": {},
   "source": [
    "**使用Light Gradient-Boosting Machine**"
   ]
  },
  {
   "cell_type": "code",
   "execution_count": null,
   "id": "08d5a517",
   "metadata": {},
   "outputs": [],
   "source": [
    "from lightgbm import LGBMClassifier\n",
    "from bayes_opt import BayesianOptimization\n",
    "\n",
    "from sklearn.model_selection import GridSearchCV,RandomizedSearchCV\n",
    "\n",
    "from sklearn.model_selection import cross_val_score,StratifiedKFold,train_test_split"
   ]
  },
  {
   "cell_type": "markdown",
   "id": "1d8b329f",
   "metadata": {},
   "source": [
    "**对超参数进行优化**"
   ]
  },
  {
   "cell_type": "code",
   "execution_count": null,
   "id": "1ea78f16",
   "metadata": {},
   "outputs": [],
   "source": [
    "def lgbm_cl_bo(min_child_samples,colsample_bytree,num_leaves,learning_rate):\n",
    "    \n",
    "    params_lgbm={}\n",
    "    params_lgbm['min_child_samples']=round(min_child_samples)\n",
    "    params_lgbm['colsample_bytree']=colsample_bytree\n",
    "    params_lgbm['num_leaves']=round(num_leaves)\n",
    "    params_lgbm['learning_rate']=learning_rate\n",
    "    params_lgbm['boosting_type']='gbdt'\n",
    "    params_lgbm['objective']='binary'\n",
    "    params_lgbm['subsample']=1.0\n",
    "    params_lgbm['max_bin']=1023\n",
    "    params_lgbm['n_jobs']=-1\n",
    "    params_lgbm['reg_alpha']=0.1\n",
    "    params_lgbm['reg_lambda']=0.2\n",
    "    params_lgbm['n_estimators']=1200\n",
    "    \n",
    "    score=cross_val_score(LGBMClassifier(**params_lgbm,random_state=42),train,target,scoring='roc_auc',\n",
    "                         cv=5).mean()\n",
    "    \n",
    "    score=score.mean()\n",
    "    return score"
   ]
  },
  {
   "cell_type": "code",
   "execution_count": null,
   "id": "53f30cf6",
   "metadata": {},
   "outputs": [],
   "source": [
    "params_lgbm={'min_child_samples':(800,1200),\n",
    "            'colsample_bytree':(0.3,1),\n",
    "            'num_leaves':(20,60),\n",
    "            'learning_rate':(0.005,0.06)}\n",
    "lgbm_bo=BayesianOptimization(lgbm_cl_bo,params_lgbm,random_state=42)\n",
    "lgbm_bo.maximize(n_iter=5,init_points=5)"
   ]
  },
  {
   "cell_type": "code",
   "execution_count": null,
   "id": "b8b73901",
   "metadata": {},
   "outputs": [],
   "source": []
  },
  {
   "cell_type": "code",
   "execution_count": null,
   "id": "9fa5bf8b",
   "metadata": {},
   "outputs": [],
   "source": []
  },
  {
   "cell_type": "code",
   "execution_count": null,
   "id": "5dfaa2ed",
   "metadata": {},
   "outputs": [],
   "source": []
  }
 ],
 "metadata": {
  "kernelspec": {
   "display_name": "Python 3 (ipykernel)",
   "language": "python",
   "name": "python3"
  },
  "language_info": {
   "codemirror_mode": {
    "name": "ipython",
    "version": 3
   },
   "file_extension": ".py",
   "mimetype": "text/x-python",
   "name": "python",
   "nbconvert_exporter": "python",
   "pygments_lexer": "ipython3",
   "version": "3.9.13"
  }
 },
 "nbformat": 4,
 "nbformat_minor": 5
}
